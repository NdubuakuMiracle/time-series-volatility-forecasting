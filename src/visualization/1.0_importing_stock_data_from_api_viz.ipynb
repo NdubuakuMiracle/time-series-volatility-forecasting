{
 "cells": [
  {
   "cell_type": "code",
   "execution_count": null,
   "id": "57f3743a-c64c-41f6-a54c-52d5d7c5e28a",
   "metadata": {},
   "outputs": [],
   "source": [
    "# Import necessary libraries\n",
    "import pandas as pd\n",
    "import requests\n",
    "\n",
    "# Import settings from the config file\n",
    "from config import settings"
   ]
  },
  {
   "cell_type": "code",
   "execution_count": null,
   "id": "ca3a6bba-99f1-4264-b13f-60c0a9735855",
   "metadata": {},
   "outputs": [
    {
     "name": "stdout",
     "output_type": "stream",
     "text": [
      "url type: <class 'str'>\n"
     ]
    }
   ],
   "source": [
    "# ----------------------------------------------------------------------------------------------\n",
    "# 1. Load the data from the API\n",
    "# ----------------------------------------------------------------------------------------------\n",
    "\n",
    "# Create a dynamic URL using all the parameters listed in the AlphaVantge documentation\n",
    "# https://www.alphavantage.co/documentation/#daily\n",
    "\n",
    "ticker = \"MSFT\"  # ticker symbol for Microsoft\n",
    "outputsize = (\n",
    "    \"compact\"  # compact returns the latest 100 data points in the daily time series\n",
    ")\n",
    "data_type = \"json\"  # json format for the data\n",
    "\n",
    "url = (\n",
    "    \"https://www.alphavantage.co/query?\"\n",
    "    \"function=TIME_SERIES_DAILY&\"\n",
    "    f\"symbol={ticker}&\"\n",
    "    f\"outputsize={outputsize}&\"\n",
    "    f\"data_type={data_type}&\"\n",
    "    f\"apikey={settings.alpha_api_key}\"\n",
    ")  # Use the API key from the settings\n",
    "\n",
    "print(\"url type:\", type(url))  # Print the URL type to check if it is correct"
   ]
  },
  {
   "cell_type": "code",
   "execution_count": null,
   "id": "f791c205-98f6-487f-8995-4a3c951ebaeb",
   "metadata": {},
   "outputs": [],
   "source": [
    "# ----------------------------------------------------------------------------------------------\n",
    "\n",
    "# Make a GET request to the URL\n",
    "response = requests.get(url=url)"
   ]
  },
  {
   "cell_type": "code",
   "execution_count": null,
   "id": "c2955ffc-c6c1-4738-a1af-2f386474519a",
   "metadata": {},
   "outputs": [
    {
     "name": "stdout",
     "output_type": "stream",
     "text": [
      "response type: <class 'requests.models.Response'>\n"
     ]
    }
   ],
   "source": [
    "# Check the type of the response\n",
    "print(\"response type:\", type(response))"
   ]
  },
  {
   "cell_type": "code",
   "execution_count": null,
   "id": "36c82804-e0cd-424f-b0e5-1440f4389265",
   "metadata": {},
   "outputs": [
    {
     "data": {
      "text/plain": [
       "['__attrs__',\n",
       " '__bool__',\n",
       " '__class__',\n",
       " '__delattr__',\n",
       " '__dict__',\n",
       " '__dir__',\n",
       " '__doc__',\n",
       " '__enter__',\n",
       " '__eq__',\n",
       " '__exit__',\n",
       " '__format__',\n",
       " '__ge__',\n",
       " '__getattribute__',\n",
       " '__getstate__',\n",
       " '__gt__',\n",
       " '__hash__',\n",
       " '__init__',\n",
       " '__init_subclass__',\n",
       " '__iter__',\n",
       " '__le__',\n",
       " '__lt__',\n",
       " '__module__',\n",
       " '__ne__',\n",
       " '__new__',\n",
       " '__nonzero__',\n",
       " '__reduce__',\n",
       " '__reduce_ex__',\n",
       " '__repr__',\n",
       " '__setattr__',\n",
       " '__setstate__',\n",
       " '__sizeof__',\n",
       " '__str__',\n",
       " '__subclasshook__',\n",
       " '__weakref__',\n",
       " '_content',\n",
       " '_content_consumed',\n",
       " '_next',\n",
       " 'apparent_encoding',\n",
       " 'close',\n",
       " 'connection',\n",
       " 'content',\n",
       " 'cookies',\n",
       " 'elapsed',\n",
       " 'encoding',\n",
       " 'headers',\n",
       " 'history',\n",
       " 'is_permanent_redirect',\n",
       " 'is_redirect',\n",
       " 'iter_content',\n",
       " 'iter_lines',\n",
       " 'json',\n",
       " 'links',\n",
       " 'next',\n",
       " 'ok',\n",
       " 'raise_for_status',\n",
       " 'raw',\n",
       " 'reason',\n",
       " 'request',\n",
       " 'status_code',\n",
       " 'text',\n",
       " 'url']"
      ]
     },
     "execution_count": 17,
     "metadata": {},
     "output_type": "execute_result"
    }
   ],
   "source": [
    "# Check the response\n",
    "dir(response)"
   ]
  },
  {
   "cell_type": "code",
   "execution_count": null,
   "id": "c26addaa-1ae7-4ca4-aea8-e5106d01cb2f",
   "metadata": {},
   "outputs": [
    {
     "name": "stdout",
     "output_type": "stream",
     "text": [
      "response code type: <class 'int'>\n",
      "200\n"
     ]
    }
   ],
   "source": [
    "# Check the status code of the response\n",
    "response_code = response.status_code\n",
    "print(\"response code type:\", type(response_code))\n",
    "print(response_code)"
   ]
  },
  {
   "cell_type": "code",
   "execution_count": null,
   "id": "d28679e6-4ad3-426f-9f8b-0c4dd8b2c687",
   "metadata": {},
   "outputs": [
    {
     "name": "stdout",
     "output_type": "stream",
     "text": [
      "response_text type: <class 'str'>\n",
      "{\n",
      "    \"Meta Data\": {\n",
      "        \"1. Information\": \"Daily Prices (open, high, low, close) and Volumes\",\n",
      "        \"2. Symbol\": \"MSFT\",\n",
      "        \"3. Last Refreshed\": \"2025-03-21\",\n",
      "        \"4. Output Size\": \"C\n"
     ]
    }
   ],
   "source": [
    "# Check the response text\n",
    "response_text = response.text\n",
    "print(\"response_text type:\", type(response_text))\n",
    "print(response_text[:200])"
   ]
  },
  {
   "cell_type": "code",
   "execution_count": null,
   "id": "fa3317c7-c1cc-45cc-a968-8eca41c1617f",
   "metadata": {},
   "outputs": [
    {
     "name": "stdout",
     "output_type": "stream",
     "text": [
      "response_data type: <class 'dict'>\n"
     ]
    }
   ],
   "source": [
    "# Check the response JSON\n",
    "response_data = response.json()\n",
    "print(\"response_data type:\", type(response_data))"
   ]
  },
  {
   "cell_type": "code",
   "execution_count": null,
   "id": "6571b295-1395-4442-9849-35fc1811dcfb",
   "metadata": {},
   "outputs": [
    {
     "name": "stdout",
     "output_type": "stream",
     "text": [
      "response_data keys: dict_keys(['Meta Data', 'Time Series (Daily)'])\n"
     ]
    }
   ],
   "source": [
    "# Check the keys in the response data\n",
    "print(\"response_data keys:\", response_data.keys())"
   ]
  },
  {
   "cell_type": "code",
   "execution_count": null,
   "id": "2990061e-559f-4e39-85f4-22fd729649a4",
   "metadata": {},
   "outputs": [
    {
     "name": "stdout",
     "output_type": "stream",
     "text": [
      "stock_data type: <class 'dict'>\n"
     ]
    }
   ],
   "source": [
    "# Extract the \"Time Series (Daily)\" data from the response data\n",
    "# This is the data we are interested in\n",
    "stock_data = response_data[\"Time Series (Daily)\"]\n",
    "# Check the type of the stock_data\n",
    "print(\"stock_data type:\", type(stock_data))"
   ]
  },
  {
   "cell_type": "code",
   "execution_count": null,
   "id": "92c71f9a-1bc2-415d-8d62-4481c8ea7b15",
   "metadata": {},
   "outputs": [
    {
     "name": "stdout",
     "output_type": "stream",
     "text": [
      "stock_data['2025-03-21']: {'1. open': '383.2150', '2. high': '391.7400', '3. low': '382.8000', '4. close': '391.2600', '5. volume': '39675928'}\n"
     ]
    }
   ],
   "source": [
    "# Check the data for one of the keys in the stock_data\n",
    "print(\"stock_data['2025-03-21']:\", stock_data[\"2025-03-21\"])"
   ]
  },
  {
   "cell_type": "code",
   "execution_count": null,
   "id": "e7078a30-63df-4d56-ad8b-f0dee0f24d5b",
   "metadata": {},
   "outputs": [
    {
     "data": {
      "text/html": [
       "<div>\n",
       "<style scoped>\n",
       "    .dataframe tbody tr th:only-of-type {\n",
       "        vertical-align: middle;\n",
       "    }\n",
       "\n",
       "    .dataframe tbody tr th {\n",
       "        vertical-align: top;\n",
       "    }\n",
       "\n",
       "    .dataframe thead th {\n",
       "        text-align: right;\n",
       "    }\n",
       "</style>\n",
       "<table border=\"1\" class=\"dataframe\">\n",
       "  <thead>\n",
       "    <tr style=\"text-align: right;\">\n",
       "      <th></th>\n",
       "      <th>2025-03-21</th>\n",
       "      <th>2025-03-20</th>\n",
       "      <th>2025-03-19</th>\n",
       "      <th>2025-03-18</th>\n",
       "      <th>2025-03-17</th>\n",
       "      <th>2025-03-14</th>\n",
       "      <th>2025-03-13</th>\n",
       "      <th>2025-03-12</th>\n",
       "      <th>2025-03-11</th>\n",
       "      <th>2025-03-10</th>\n",
       "      <th>...</th>\n",
       "      <th>2024-11-07</th>\n",
       "      <th>2024-11-06</th>\n",
       "      <th>2024-11-05</th>\n",
       "      <th>2024-11-04</th>\n",
       "      <th>2024-11-01</th>\n",
       "      <th>2024-10-31</th>\n",
       "      <th>2024-10-30</th>\n",
       "      <th>2024-10-29</th>\n",
       "      <th>2024-10-28</th>\n",
       "      <th>2024-10-25</th>\n",
       "    </tr>\n",
       "  </thead>\n",
       "  <tbody>\n",
       "    <tr>\n",
       "      <th>1. open</th>\n",
       "      <td>383.2150</td>\n",
       "      <td>385.7350</td>\n",
       "      <td>385.5250</td>\n",
       "      <td>387.0700</td>\n",
       "      <td>386.7000</td>\n",
       "      <td>379.7750</td>\n",
       "      <td>383.1550</td>\n",
       "      <td>382.9500</td>\n",
       "      <td>379.0000</td>\n",
       "      <td>385.8400</td>\n",
       "      <td>...</td>\n",
       "      <td>421.2800</td>\n",
       "      <td>412.4200</td>\n",
       "      <td>408.3700</td>\n",
       "      <td>409.8000</td>\n",
       "      <td>409.0100</td>\n",
       "      <td>415.3600</td>\n",
       "      <td>437.4350</td>\n",
       "      <td>428.0000</td>\n",
       "      <td>431.6550</td>\n",
       "      <td>426.7600</td>\n",
       "    </tr>\n",
       "    <tr>\n",
       "      <th>2. high</th>\n",
       "      <td>391.7400</td>\n",
       "      <td>391.7850</td>\n",
       "      <td>389.6800</td>\n",
       "      <td>387.3700</td>\n",
       "      <td>392.7050</td>\n",
       "      <td>390.2300</td>\n",
       "      <td>385.3200</td>\n",
       "      <td>385.2165</td>\n",
       "      <td>386.0000</td>\n",
       "      <td>386.4000</td>\n",
       "      <td>...</td>\n",
       "      <td>426.8500</td>\n",
       "      <td>420.4500</td>\n",
       "      <td>414.9000</td>\n",
       "      <td>410.4150</td>\n",
       "      <td>415.5000</td>\n",
       "      <td>416.1600</td>\n",
       "      <td>438.5000</td>\n",
       "      <td>433.1700</td>\n",
       "      <td>431.9400</td>\n",
       "      <td>432.5200</td>\n",
       "    </tr>\n",
       "    <tr>\n",
       "      <th>3. low</th>\n",
       "      <td>382.8000</td>\n",
       "      <td>383.2800</td>\n",
       "      <td>384.0000</td>\n",
       "      <td>381.1000</td>\n",
       "      <td>385.5700</td>\n",
       "      <td>379.5100</td>\n",
       "      <td>377.4500</td>\n",
       "      <td>378.9507</td>\n",
       "      <td>376.9100</td>\n",
       "      <td>377.2200</td>\n",
       "      <td>...</td>\n",
       "      <td>419.8800</td>\n",
       "      <td>410.5200</td>\n",
       "      <td>408.0800</td>\n",
       "      <td>405.5713</td>\n",
       "      <td>407.5000</td>\n",
       "      <td>406.3000</td>\n",
       "      <td>432.1000</td>\n",
       "      <td>425.8001</td>\n",
       "      <td>426.3000</td>\n",
       "      <td>426.5650</td>\n",
       "    </tr>\n",
       "    <tr>\n",
       "      <th>4. close</th>\n",
       "      <td>391.2600</td>\n",
       "      <td>386.8400</td>\n",
       "      <td>387.8200</td>\n",
       "      <td>383.5200</td>\n",
       "      <td>388.7000</td>\n",
       "      <td>388.5600</td>\n",
       "      <td>378.7700</td>\n",
       "      <td>383.2700</td>\n",
       "      <td>380.4500</td>\n",
       "      <td>380.1600</td>\n",
       "      <td>...</td>\n",
       "      <td>425.4300</td>\n",
       "      <td>420.1800</td>\n",
       "      <td>411.4600</td>\n",
       "      <td>408.4600</td>\n",
       "      <td>410.3700</td>\n",
       "      <td>406.3500</td>\n",
       "      <td>432.5300</td>\n",
       "      <td>431.9500</td>\n",
       "      <td>426.5900</td>\n",
       "      <td>428.1500</td>\n",
       "    </tr>\n",
       "    <tr>\n",
       "      <th>5. volume</th>\n",
       "      <td>39675928</td>\n",
       "      <td>18470542</td>\n",
       "      <td>19185532</td>\n",
       "      <td>19486850</td>\n",
       "      <td>22474272</td>\n",
       "      <td>19952846</td>\n",
       "      <td>20473017</td>\n",
       "      <td>24253567</td>\n",
       "      <td>30380177</td>\n",
       "      <td>32569768</td>\n",
       "      <td>...</td>\n",
       "      <td>19901782</td>\n",
       "      <td>26681842</td>\n",
       "      <td>17626011</td>\n",
       "      <td>19672286</td>\n",
       "      <td>24230442</td>\n",
       "      <td>53970981</td>\n",
       "      <td>29749149</td>\n",
       "      <td>17644080</td>\n",
       "      <td>14882444</td>\n",
       "      <td>16899064</td>\n",
       "    </tr>\n",
       "  </tbody>\n",
       "</table>\n",
       "<p>5 rows × 100 columns</p>\n",
       "</div>"
      ],
      "text/plain": [
       "          2025-03-21 2025-03-20 2025-03-19 2025-03-18 2025-03-17 2025-03-14  \\\n",
       "1. open     383.2150   385.7350   385.5250   387.0700   386.7000   379.7750   \n",
       "2. high     391.7400   391.7850   389.6800   387.3700   392.7050   390.2300   \n",
       "3. low      382.8000   383.2800   384.0000   381.1000   385.5700   379.5100   \n",
       "4. close    391.2600   386.8400   387.8200   383.5200   388.7000   388.5600   \n",
       "5. volume   39675928   18470542   19185532   19486850   22474272   19952846   \n",
       "\n",
       "          2025-03-13 2025-03-12 2025-03-11 2025-03-10  ... 2024-11-07  \\\n",
       "1. open     383.1550   382.9500   379.0000   385.8400  ...   421.2800   \n",
       "2. high     385.3200   385.2165   386.0000   386.4000  ...   426.8500   \n",
       "3. low      377.4500   378.9507   376.9100   377.2200  ...   419.8800   \n",
       "4. close    378.7700   383.2700   380.4500   380.1600  ...   425.4300   \n",
       "5. volume   20473017   24253567   30380177   32569768  ...   19901782   \n",
       "\n",
       "          2024-11-06 2024-11-05 2024-11-04 2024-11-01 2024-10-31 2024-10-30  \\\n",
       "1. open     412.4200   408.3700   409.8000   409.0100   415.3600   437.4350   \n",
       "2. high     420.4500   414.9000   410.4150   415.5000   416.1600   438.5000   \n",
       "3. low      410.5200   408.0800   405.5713   407.5000   406.3000   432.1000   \n",
       "4. close    420.1800   411.4600   408.4600   410.3700   406.3500   432.5300   \n",
       "5. volume   26681842   17626011   19672286   24230442   53970981   29749149   \n",
       "\n",
       "          2024-10-29 2024-10-28 2024-10-25  \n",
       "1. open     428.0000   431.6550   426.7600  \n",
       "2. high     433.1700   431.9400   432.5200  \n",
       "3. low      425.8001   426.3000   426.5650  \n",
       "4. close    431.9500   426.5900   428.1500  \n",
       "5. volume   17644080   14882444   16899064  \n",
       "\n",
       "[5 rows x 100 columns]"
      ]
     },
     "execution_count": 38,
     "metadata": {},
     "output_type": "execute_result"
    }
   ],
   "source": [
    "# ----------------------------------------------------------------------------------------------\n",
    "# 2. Read the data to a DataFrame\n",
    "# ----------------------------------------------------------------------------------------------\n",
    "\n",
    "# Convert the stock_data to a DataFrame\n",
    "df_microsoft = pd.DataFrame.from_dict(stock_data)\n",
    "df_microsoft.head()"
   ]
  },
  {
   "cell_type": "code",
   "execution_count": null,
   "id": "5f9d16df-6a2d-422b-9c6c-4f3814c1d324",
   "metadata": {},
   "outputs": [],
   "source": [
    "# Convert the stock_data to a DataFrame\n",
    "df_microsoft = pd.DataFrame.from_dict(\n",
    "    stock_data, orient=\"index\", dtype=\"float\"\n",
    ")  # Add dtypes=\"float\" because the data is in string format\n",
    "# Make the date headings the index"
   ]
  },
  {
   "cell_type": "code",
   "execution_count": null,
   "id": "c4e163df-27f1-4b14-bf62-5d8318128ad6",
   "metadata": {},
   "outputs": [
    {
     "data": {
      "text/plain": [
       "(100, 5)"
      ]
     },
     "execution_count": 42,
     "metadata": {},
     "output_type": "execute_result"
    }
   ],
   "source": [
    "# Check the shape, head, and info of the DataFrame\n",
    "df_microsoft.shape"
   ]
  },
  {
   "cell_type": "code",
   "execution_count": null,
   "id": "d8daab70-233a-445b-b08b-8a4e82c8bca1",
   "metadata": {},
   "outputs": [
    {
     "data": {
      "text/html": [
       "<div>\n",
       "<style scoped>\n",
       "    .dataframe tbody tr th:only-of-type {\n",
       "        vertical-align: middle;\n",
       "    }\n",
       "\n",
       "    .dataframe tbody tr th {\n",
       "        vertical-align: top;\n",
       "    }\n",
       "\n",
       "    .dataframe thead th {\n",
       "        text-align: right;\n",
       "    }\n",
       "</style>\n",
       "<table border=\"1\" class=\"dataframe\">\n",
       "  <thead>\n",
       "    <tr style=\"text-align: right;\">\n",
       "      <th></th>\n",
       "      <th>1. open</th>\n",
       "      <th>2. high</th>\n",
       "      <th>3. low</th>\n",
       "      <th>4. close</th>\n",
       "      <th>5. volume</th>\n",
       "    </tr>\n",
       "  </thead>\n",
       "  <tbody>\n",
       "    <tr>\n",
       "      <th>2025-03-21</th>\n",
       "      <td>383.215</td>\n",
       "      <td>391.740</td>\n",
       "      <td>382.80</td>\n",
       "      <td>391.26</td>\n",
       "      <td>39675928.0</td>\n",
       "    </tr>\n",
       "    <tr>\n",
       "      <th>2025-03-20</th>\n",
       "      <td>385.735</td>\n",
       "      <td>391.785</td>\n",
       "      <td>383.28</td>\n",
       "      <td>386.84</td>\n",
       "      <td>18470542.0</td>\n",
       "    </tr>\n",
       "    <tr>\n",
       "      <th>2025-03-19</th>\n",
       "      <td>385.525</td>\n",
       "      <td>389.680</td>\n",
       "      <td>384.00</td>\n",
       "      <td>387.82</td>\n",
       "      <td>19185532.0</td>\n",
       "    </tr>\n",
       "    <tr>\n",
       "      <th>2025-03-18</th>\n",
       "      <td>387.070</td>\n",
       "      <td>387.370</td>\n",
       "      <td>381.10</td>\n",
       "      <td>383.52</td>\n",
       "      <td>19486850.0</td>\n",
       "    </tr>\n",
       "    <tr>\n",
       "      <th>2025-03-17</th>\n",
       "      <td>386.700</td>\n",
       "      <td>392.705</td>\n",
       "      <td>385.57</td>\n",
       "      <td>388.70</td>\n",
       "      <td>22474272.0</td>\n",
       "    </tr>\n",
       "  </tbody>\n",
       "</table>\n",
       "</div>"
      ],
      "text/plain": [
       "            1. open  2. high  3. low  4. close   5. volume\n",
       "2025-03-21  383.215  391.740  382.80    391.26  39675928.0\n",
       "2025-03-20  385.735  391.785  383.28    386.84  18470542.0\n",
       "2025-03-19  385.525  389.680  384.00    387.82  19185532.0\n",
       "2025-03-18  387.070  387.370  381.10    383.52  19486850.0\n",
       "2025-03-17  386.700  392.705  385.57    388.70  22474272.0"
      ]
     },
     "execution_count": 43,
     "metadata": {},
     "output_type": "execute_result"
    }
   ],
   "source": [
    "df_microsoft.head()"
   ]
  },
  {
   "cell_type": "code",
   "execution_count": null,
   "id": "d28b26b5-2deb-45c0-a4cc-e7a8c9365b35",
   "metadata": {},
   "outputs": [
    {
     "name": "stdout",
     "output_type": "stream",
     "text": [
      "<class 'pandas.core.frame.DataFrame'>\n",
      "Index: 100 entries, 2025-03-21 to 2024-10-25\n",
      "Data columns (total 5 columns):\n",
      " #   Column     Non-Null Count  Dtype  \n",
      "---  ------     --------------  -----  \n",
      " 0   1. open    100 non-null    float64\n",
      " 1   2. high    100 non-null    float64\n",
      " 2   3. low     100 non-null    float64\n",
      " 3   4. close   100 non-null    float64\n",
      " 4   5. volume  100 non-null    float64\n",
      "dtypes: float64(5)\n",
      "memory usage: 4.7+ KB\n"
     ]
    }
   ],
   "source": [
    "df_microsoft.info()"
   ]
  },
  {
   "cell_type": "code",
   "execution_count": null,
   "id": "5c09610c-6a89-4cd0-b590-81155fb7ab56",
   "metadata": {},
   "outputs": [],
   "source": [
    "# ----------------------------------------------------------------------------------------------\n",
    "\n",
    "# Clean the data by converting the index to a datetime object\n",
    "df_microsoft.index = pd.to_datetime(df_microsoft.index)"
   ]
  },
  {
   "cell_type": "code",
   "execution_count": null,
   "id": "1fd110da-6649-4183-be88-663f4439ac30",
   "metadata": {},
   "outputs": [
    {
     "data": {
      "text/html": [
       "<div>\n",
       "<style scoped>\n",
       "    .dataframe tbody tr th:only-of-type {\n",
       "        vertical-align: middle;\n",
       "    }\n",
       "\n",
       "    .dataframe tbody tr th {\n",
       "        vertical-align: top;\n",
       "    }\n",
       "\n",
       "    .dataframe thead th {\n",
       "        text-align: right;\n",
       "    }\n",
       "</style>\n",
       "<table border=\"1\" class=\"dataframe\">\n",
       "  <thead>\n",
       "    <tr style=\"text-align: right;\">\n",
       "      <th></th>\n",
       "      <th>1. open</th>\n",
       "      <th>2. high</th>\n",
       "      <th>3. low</th>\n",
       "      <th>4. close</th>\n",
       "      <th>5. volume</th>\n",
       "    </tr>\n",
       "    <tr>\n",
       "      <th>date</th>\n",
       "      <th></th>\n",
       "      <th></th>\n",
       "      <th></th>\n",
       "      <th></th>\n",
       "      <th></th>\n",
       "    </tr>\n",
       "  </thead>\n",
       "  <tbody>\n",
       "    <tr>\n",
       "      <th>2025-03-21</th>\n",
       "      <td>383.215</td>\n",
       "      <td>391.740</td>\n",
       "      <td>382.80</td>\n",
       "      <td>391.26</td>\n",
       "      <td>39675928.0</td>\n",
       "    </tr>\n",
       "    <tr>\n",
       "      <th>2025-03-20</th>\n",
       "      <td>385.735</td>\n",
       "      <td>391.785</td>\n",
       "      <td>383.28</td>\n",
       "      <td>386.84</td>\n",
       "      <td>18470542.0</td>\n",
       "    </tr>\n",
       "    <tr>\n",
       "      <th>2025-03-19</th>\n",
       "      <td>385.525</td>\n",
       "      <td>389.680</td>\n",
       "      <td>384.00</td>\n",
       "      <td>387.82</td>\n",
       "      <td>19185532.0</td>\n",
       "    </tr>\n",
       "    <tr>\n",
       "      <th>2025-03-18</th>\n",
       "      <td>387.070</td>\n",
       "      <td>387.370</td>\n",
       "      <td>381.10</td>\n",
       "      <td>383.52</td>\n",
       "      <td>19486850.0</td>\n",
       "    </tr>\n",
       "    <tr>\n",
       "      <th>2025-03-17</th>\n",
       "      <td>386.700</td>\n",
       "      <td>392.705</td>\n",
       "      <td>385.57</td>\n",
       "      <td>388.70</td>\n",
       "      <td>22474272.0</td>\n",
       "    </tr>\n",
       "  </tbody>\n",
       "</table>\n",
       "</div>"
      ],
      "text/plain": [
       "            1. open  2. high  3. low  4. close   5. volume\n",
       "date                                                      \n",
       "2025-03-21  383.215  391.740  382.80    391.26  39675928.0\n",
       "2025-03-20  385.735  391.785  383.28    386.84  18470542.0\n",
       "2025-03-19  385.525  389.680  384.00    387.82  19185532.0\n",
       "2025-03-18  387.070  387.370  381.10    383.52  19486850.0\n",
       "2025-03-17  386.700  392.705  385.57    388.70  22474272.0"
      ]
     },
     "execution_count": 46,
     "metadata": {},
     "output_type": "execute_result"
    }
   ],
   "source": [
    "# Give the index a name\n",
    "df_microsoft.index.name = \"date\"\n",
    "# Check the head and info of the DataFrame\n",
    "df_microsoft.head()"
   ]
  },
  {
   "cell_type": "code",
   "execution_count": null,
   "id": "e909b410-6b97-4229-8f76-e74b742691d7",
   "metadata": {},
   "outputs": [
    {
     "name": "stdout",
     "output_type": "stream",
     "text": [
      "<class 'pandas.core.frame.DataFrame'>\n",
      "DatetimeIndex: 100 entries, 2025-03-21 to 2024-10-25\n",
      "Data columns (total 5 columns):\n",
      " #   Column     Non-Null Count  Dtype  \n",
      "---  ------     --------------  -----  \n",
      " 0   1. open    100 non-null    float64\n",
      " 1   2. high    100 non-null    float64\n",
      " 2   3. low     100 non-null    float64\n",
      " 3   4. close   100 non-null    float64\n",
      " 4   5. volume  100 non-null    float64\n",
      "dtypes: float64(5)\n",
      "memory usage: 4.7 KB\n"
     ]
    }
   ],
   "source": [
    "df_microsoft.info()"
   ]
  },
  {
   "cell_type": "code",
   "execution_count": null,
   "id": "c3020f6b-6f6c-4a16-b730-555e953eebff",
   "metadata": {},
   "outputs": [],
   "source": [
    "# Clean the headers by removing the \"number\" prefix from the columns names\n",
    "df_microsoft.columns = [col.split(\". \")[1] for col in df_microsoft.columns]"
   ]
  },
  {
   "cell_type": "code",
   "execution_count": null,
   "id": "22cf21a5-a106-4b16-bf6a-23d3d818efae",
   "metadata": {},
   "outputs": [
    {
     "data": {
      "text/html": [
       "<div>\n",
       "<style scoped>\n",
       "    .dataframe tbody tr th:only-of-type {\n",
       "        vertical-align: middle;\n",
       "    }\n",
       "\n",
       "    .dataframe tbody tr th {\n",
       "        vertical-align: top;\n",
       "    }\n",
       "\n",
       "    .dataframe thead th {\n",
       "        text-align: right;\n",
       "    }\n",
       "</style>\n",
       "<table border=\"1\" class=\"dataframe\">\n",
       "  <thead>\n",
       "    <tr style=\"text-align: right;\">\n",
       "      <th></th>\n",
       "      <th>open</th>\n",
       "      <th>high</th>\n",
       "      <th>low</th>\n",
       "      <th>close</th>\n",
       "      <th>volume</th>\n",
       "    </tr>\n",
       "    <tr>\n",
       "      <th>date</th>\n",
       "      <th></th>\n",
       "      <th></th>\n",
       "      <th></th>\n",
       "      <th></th>\n",
       "      <th></th>\n",
       "    </tr>\n",
       "  </thead>\n",
       "  <tbody>\n",
       "    <tr>\n",
       "      <th>2025-03-21</th>\n",
       "      <td>383.215</td>\n",
       "      <td>391.740</td>\n",
       "      <td>382.80</td>\n",
       "      <td>391.26</td>\n",
       "      <td>39675928.0</td>\n",
       "    </tr>\n",
       "    <tr>\n",
       "      <th>2025-03-20</th>\n",
       "      <td>385.735</td>\n",
       "      <td>391.785</td>\n",
       "      <td>383.28</td>\n",
       "      <td>386.84</td>\n",
       "      <td>18470542.0</td>\n",
       "    </tr>\n",
       "    <tr>\n",
       "      <th>2025-03-19</th>\n",
       "      <td>385.525</td>\n",
       "      <td>389.680</td>\n",
       "      <td>384.00</td>\n",
       "      <td>387.82</td>\n",
       "      <td>19185532.0</td>\n",
       "    </tr>\n",
       "    <tr>\n",
       "      <th>2025-03-18</th>\n",
       "      <td>387.070</td>\n",
       "      <td>387.370</td>\n",
       "      <td>381.10</td>\n",
       "      <td>383.52</td>\n",
       "      <td>19486850.0</td>\n",
       "    </tr>\n",
       "    <tr>\n",
       "      <th>2025-03-17</th>\n",
       "      <td>386.700</td>\n",
       "      <td>392.705</td>\n",
       "      <td>385.57</td>\n",
       "      <td>388.70</td>\n",
       "      <td>22474272.0</td>\n",
       "    </tr>\n",
       "  </tbody>\n",
       "</table>\n",
       "</div>"
      ],
      "text/plain": [
       "               open     high     low   close      volume\n",
       "date                                                    \n",
       "2025-03-21  383.215  391.740  382.80  391.26  39675928.0\n",
       "2025-03-20  385.735  391.785  383.28  386.84  18470542.0\n",
       "2025-03-19  385.525  389.680  384.00  387.82  19185532.0\n",
       "2025-03-18  387.070  387.370  381.10  383.52  19486850.0\n",
       "2025-03-17  386.700  392.705  385.57  388.70  22474272.0"
      ]
     },
     "execution_count": 49,
     "metadata": {},
     "output_type": "execute_result"
    }
   ],
   "source": [
    "# Check the head and info of the DataFrame\n",
    "df_microsoft.head()"
   ]
  },
  {
   "cell_type": "code",
   "execution_count": null,
   "id": "bf925cd1-6d6f-439f-8c73-86535a9fcfc6",
   "metadata": {},
   "outputs": [
    {
     "name": "stdout",
     "output_type": "stream",
     "text": [
      "<class 'pandas.core.frame.DataFrame'>\n",
      "DatetimeIndex: 100 entries, 2025-03-21 to 2024-10-25\n",
      "Data columns (total 5 columns):\n",
      " #   Column  Non-Null Count  Dtype  \n",
      "---  ------  --------------  -----  \n",
      " 0   open    100 non-null    float64\n",
      " 1   high    100 non-null    float64\n",
      " 2   low     100 non-null    float64\n",
      " 3   close   100 non-null    float64\n",
      " 4   volume  100 non-null    float64\n",
      "dtypes: float64(5)\n",
      "memory usage: 4.7 KB\n"
     ]
    }
   ],
   "source": [
    "df_microsoft.info()"
   ]
  },
  {
   "cell_type": "code",
   "execution_count": null,
   "id": "e2cf8e91-49a3-4f86-bc75-fa0f68534f2c",
   "metadata": {},
   "outputs": [],
   "source": [
    "# ----------------------------------------------------------------------------------------------\n",
    "# 3. Incorporate the data cleaning steps into a function to get data from the AlphaVantage API\n",
    "# ----------------------------------------------------------------------------------------------\n",
    "\n",
    "\n",
    "# The function to get the stock data from the AlphaVantage API\n",
    "def get_stock_data(ticker: str, outputsize: str, data_type=\"json\") -> pd.DataFrame:\n",
    "    \"\"\"\n",
    "    Get the stock data from the AlphaVantage API.\n",
    "\n",
    "    Parameters:\n",
    "    ticker (str): The ticker symbol of the stock.\n",
    "    outputsize (str): The size of the output data (compact or full),\n",
    "    where compact returns the latest 100 data points. Full returns the full-length time series.\n",
    "    data_type (str): The format of the output data set to json by default.\n",
    "\n",
    "    Returns:\n",
    "    pd.DataFrame: A DataFrame containing the stock data.\n",
    "    The columns are: open, high, low, close, volume.The index is the date.\n",
    "    \"\"\"\n",
    "    # Create the URL\n",
    "    url = (\n",
    "        \"https://www.alphavantage.co/query?\"\n",
    "        \"function=TIME_SERIES_DAILY&\"\n",
    "        f\"symbol={ticker}&\"\n",
    "        f\"outputsize={outputsize}&\"\n",
    "        f\"data_type={data_type}&\"\n",
    "        f\"apikey={settings.alpha_api_key}\"\n",
    "    )\n",
    "\n",
    "    # Make a GET request to the URL\n",
    "    response = requests.get(url=url)\n",
    "\n",
    "    # Extract the data from the response\n",
    "    response_data = response.json()\n",
    "    stock_data = response_data[\"Time Series (Daily)\"]\n",
    "\n",
    "    # Convert the data to a DataFrame and clean it\n",
    "    df_stock = pd.DataFrame.from_dict(stock_data, orient=\"index\", dtype=\"float\")\n",
    "    df_stock.index = pd.to_datetime(df_stock.index)\n",
    "    df_stock.index.name = \"date\"\n",
    "    df_stock.columns = [col.split(\". \")[1] for col in df_stock.columns]\n",
    "\n",
    "    return df_stock"
   ]
  },
  {
   "cell_type": "code",
   "execution_count": null,
   "id": "7d686c04-e933-4de1-9820-fc29ff43c2c6",
   "metadata": {},
   "outputs": [
    {
     "name": "stdout",
     "output_type": "stream",
     "text": [
      "Apple Stock Shape: (100, 5)\n"
     ]
    }
   ],
   "source": [
    "# ----------------------------------------------------------------------------------------------\n",
    "# 4. Use the function to get data for different stocks\n",
    "# ----------------------------------------------------------------------------------------------\n",
    "\n",
    "# Get the stock data for Apple (AAPL\n",
    "df_apple = get_stock_data(\"AAPL\", \"compact\") # Get the latest 100 data points\n",
    "\n",
    "# Check the shape, head, and info of the DataFrame\n",
    "print(\"Apple Stock Shape:\", df_apple.shape)"
   ]
  },
  {
   "cell_type": "code",
   "execution_count": null,
   "id": "cbb5613c-58df-4b0c-857f-6c95580225e1",
   "metadata": {},
   "outputs": [
    {
     "data": {
      "text/html": [
       "<div>\n",
       "<style scoped>\n",
       "    .dataframe tbody tr th:only-of-type {\n",
       "        vertical-align: middle;\n",
       "    }\n",
       "\n",
       "    .dataframe tbody tr th {\n",
       "        vertical-align: top;\n",
       "    }\n",
       "\n",
       "    .dataframe thead th {\n",
       "        text-align: right;\n",
       "    }\n",
       "</style>\n",
       "<table border=\"1\" class=\"dataframe\">\n",
       "  <thead>\n",
       "    <tr style=\"text-align: right;\">\n",
       "      <th></th>\n",
       "      <th>open</th>\n",
       "      <th>high</th>\n",
       "      <th>low</th>\n",
       "      <th>close</th>\n",
       "      <th>volume</th>\n",
       "    </tr>\n",
       "    <tr>\n",
       "      <th>date</th>\n",
       "      <th></th>\n",
       "      <th></th>\n",
       "      <th></th>\n",
       "      <th></th>\n",
       "      <th></th>\n",
       "    </tr>\n",
       "  </thead>\n",
       "  <tbody>\n",
       "    <tr>\n",
       "      <th>2025-03-21</th>\n",
       "      <td>211.56</td>\n",
       "      <td>218.8400</td>\n",
       "      <td>211.28</td>\n",
       "      <td>218.27</td>\n",
       "      <td>94127768.0</td>\n",
       "    </tr>\n",
       "    <tr>\n",
       "      <th>2025-03-20</th>\n",
       "      <td>213.99</td>\n",
       "      <td>217.4899</td>\n",
       "      <td>212.22</td>\n",
       "      <td>214.10</td>\n",
       "      <td>48862947.0</td>\n",
       "    </tr>\n",
       "    <tr>\n",
       "      <th>2025-03-19</th>\n",
       "      <td>214.22</td>\n",
       "      <td>218.7600</td>\n",
       "      <td>213.75</td>\n",
       "      <td>215.24</td>\n",
       "      <td>54385391.0</td>\n",
       "    </tr>\n",
       "    <tr>\n",
       "      <th>2025-03-18</th>\n",
       "      <td>214.16</td>\n",
       "      <td>215.1500</td>\n",
       "      <td>211.49</td>\n",
       "      <td>212.69</td>\n",
       "      <td>42432426.0</td>\n",
       "    </tr>\n",
       "    <tr>\n",
       "      <th>2025-03-17</th>\n",
       "      <td>213.31</td>\n",
       "      <td>215.2200</td>\n",
       "      <td>209.97</td>\n",
       "      <td>214.00</td>\n",
       "      <td>48073426.0</td>\n",
       "    </tr>\n",
       "  </tbody>\n",
       "</table>\n",
       "</div>"
      ],
      "text/plain": [
       "              open      high     low   close      volume\n",
       "date                                                    \n",
       "2025-03-21  211.56  218.8400  211.28  218.27  94127768.0\n",
       "2025-03-20  213.99  217.4899  212.22  214.10  48862947.0\n",
       "2025-03-19  214.22  218.7600  213.75  215.24  54385391.0\n",
       "2025-03-18  214.16  215.1500  211.49  212.69  42432426.0\n",
       "2025-03-17  213.31  215.2200  209.97  214.00  48073426.0"
      ]
     },
     "execution_count": 53,
     "metadata": {},
     "output_type": "execute_result"
    }
   ],
   "source": [
    "df_apple.head()"
   ]
  },
  {
   "cell_type": "code",
   "execution_count": null,
   "id": "e0825c97-c478-4590-9e3c-4e4df7e9a0ad",
   "metadata": {},
   "outputs": [
    {
     "name": "stdout",
     "output_type": "stream",
     "text": [
      "<class 'pandas.core.frame.DataFrame'>\n",
      "DatetimeIndex: 100 entries, 2025-03-21 to 2024-10-25\n",
      "Data columns (total 5 columns):\n",
      " #   Column  Non-Null Count  Dtype  \n",
      "---  ------  --------------  -----  \n",
      " 0   open    100 non-null    float64\n",
      " 1   high    100 non-null    float64\n",
      " 2   low     100 non-null    float64\n",
      " 3   close   100 non-null    float64\n",
      " 4   volume  100 non-null    float64\n",
      "dtypes: float64(5)\n",
      "memory usage: 4.7 KB\n"
     ]
    }
   ],
   "source": [
    "df_apple.info()"
   ]
  },
  {
   "cell_type": "code",
   "execution_count": null,
   "id": "3c7c6032-c517-4782-9d67-6d50dc336aac",
   "metadata": {},
   "outputs": [
    {
     "name": "stdout",
     "output_type": "stream",
     "text": [
      "Google Stock Shape: (100, 5)\n"
     ]
    }
   ],
   "source": [
    "# Get the stock data for Google (GOOGL)\n",
    "df_google = get_stock_data(\"GOOGL\", \"compact\") # Get the latest 100 data points\n",
    "\n",
    "# Check the shape, head, and info of the DataFrame\n",
    "print(\"Google Stock Shape:\", df_google.shape)"
   ]
  },
  {
   "cell_type": "code",
   "execution_count": null,
   "id": "8f802959-e2c5-4600-b3b5-9069ec50e881",
   "metadata": {},
   "outputs": [
    {
     "data": {
      "text/html": [
       "<div>\n",
       "<style scoped>\n",
       "    .dataframe tbody tr th:only-of-type {\n",
       "        vertical-align: middle;\n",
       "    }\n",
       "\n",
       "    .dataframe tbody tr th {\n",
       "        vertical-align: top;\n",
       "    }\n",
       "\n",
       "    .dataframe thead th {\n",
       "        text-align: right;\n",
       "    }\n",
       "</style>\n",
       "<table border=\"1\" class=\"dataframe\">\n",
       "  <thead>\n",
       "    <tr style=\"text-align: right;\">\n",
       "      <th></th>\n",
       "      <th>open</th>\n",
       "      <th>high</th>\n",
       "      <th>low</th>\n",
       "      <th>close</th>\n",
       "      <th>volume</th>\n",
       "    </tr>\n",
       "    <tr>\n",
       "      <th>date</th>\n",
       "      <th></th>\n",
       "      <th></th>\n",
       "      <th></th>\n",
       "      <th></th>\n",
       "      <th></th>\n",
       "    </tr>\n",
       "  </thead>\n",
       "  <tbody>\n",
       "    <tr>\n",
       "      <th>2025-03-21</th>\n",
       "      <td>161.205</td>\n",
       "      <td>164.24</td>\n",
       "      <td>160.8901</td>\n",
       "      <td>163.99</td>\n",
       "      <td>36625764.0</td>\n",
       "    </tr>\n",
       "    <tr>\n",
       "      <th>2025-03-20</th>\n",
       "      <td>161.570</td>\n",
       "      <td>164.89</td>\n",
       "      <td>160.9600</td>\n",
       "      <td>162.80</td>\n",
       "      <td>28138464.0</td>\n",
       "    </tr>\n",
       "    <tr>\n",
       "      <th>2025-03-19</th>\n",
       "      <td>161.760</td>\n",
       "      <td>165.87</td>\n",
       "      <td>161.0000</td>\n",
       "      <td>163.89</td>\n",
       "      <td>34275582.0</td>\n",
       "    </tr>\n",
       "    <tr>\n",
       "      <th>2025-03-18</th>\n",
       "      <td>163.675</td>\n",
       "      <td>164.25</td>\n",
       "      <td>156.7200</td>\n",
       "      <td>160.67</td>\n",
       "      <td>42074751.0</td>\n",
       "    </tr>\n",
       "    <tr>\n",
       "      <th>2025-03-17</th>\n",
       "      <td>165.030</td>\n",
       "      <td>166.30</td>\n",
       "      <td>163.6700</td>\n",
       "      <td>164.29</td>\n",
       "      <td>31184335.0</td>\n",
       "    </tr>\n",
       "  </tbody>\n",
       "</table>\n",
       "</div>"
      ],
      "text/plain": [
       "               open    high       low   close      volume\n",
       "date                                                     \n",
       "2025-03-21  161.205  164.24  160.8901  163.99  36625764.0\n",
       "2025-03-20  161.570  164.89  160.9600  162.80  28138464.0\n",
       "2025-03-19  161.760  165.87  161.0000  163.89  34275582.0\n",
       "2025-03-18  163.675  164.25  156.7200  160.67  42074751.0\n",
       "2025-03-17  165.030  166.30  163.6700  164.29  31184335.0"
      ]
     },
     "execution_count": 56,
     "metadata": {},
     "output_type": "execute_result"
    }
   ],
   "source": [
    "df_google.head()"
   ]
  },
  {
   "cell_type": "code",
   "execution_count": null,
   "id": "4ba75d1e-f142-4c68-9b67-826bed011bfb",
   "metadata": {},
   "outputs": [
    {
     "name": "stdout",
     "output_type": "stream",
     "text": [
      "<class 'pandas.core.frame.DataFrame'>\n",
      "DatetimeIndex: 100 entries, 2025-03-21 to 2024-10-25\n",
      "Data columns (total 5 columns):\n",
      " #   Column  Non-Null Count  Dtype  \n",
      "---  ------  --------------  -----  \n",
      " 0   open    100 non-null    float64\n",
      " 1   high    100 non-null    float64\n",
      " 2   low     100 non-null    float64\n",
      " 3   close   100 non-null    float64\n",
      " 4   volume  100 non-null    float64\n",
      "dtypes: float64(5)\n",
      "memory usage: 4.7 KB\n"
     ]
    }
   ],
   "source": [
    "df_google.info()"
   ]
  }
 ],
 "metadata": {
  "language_info": {
   "codemirror_mode": {
    "name": "ipython",
    "version": 3
   },
   "file_extension": ".py",
   "mimetype": "text/x-python",
   "name": "python",
   "nbconvert_exporter": "python",
   "pygments_lexer": "ipython3",
   "version": 3
  }
 },
 "nbformat": 4,
 "nbformat_minor": 2
}
